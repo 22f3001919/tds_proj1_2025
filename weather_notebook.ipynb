{
 "cells": [
  {
   "cell_type": "code",
   "execution_count": 3,
   "id": "9a9d19bb",
   "metadata": {},
   "outputs": [],
   "source": [
    "import requests\n",
    "from urllib.parse import urlencode"
   ]
  },
  {
   "cell_type": "code",
   "execution_count": 4,
   "id": "3b998a7b",
   "metadata": {},
   "outputs": [
    {
     "data": {
      "text/plain": [
       "'https://locator-service.api.bbci.co.uk/locations?api_key=AGbFAKx58hyjQScCXIYrxuEwJh2W2cmv&stack=aws&locale=en&filter=international&place-types=settlement%2Cairport%2Cdistrict&order=importance&s=Jaipur&a=true&format=json'"
      ]
     },
     "execution_count": 4,
     "metadata": {},
     "output_type": "execute_result"
    }
   ],
   "source": [
    "test_city = \"Jaipur\"\n",
    "base_url = \"https://locator-service.api.bbci.co.uk/locations?\"\n",
    "params = {\n",
    "    \"api_key\": \"AGbFAKx58hyjQScCXIYrxuEwJh2W2cmv\",\n",
    "    \"stack\": \"aws\",\n",
    "    \"locale\": \"en\",\n",
    "    \"filter\": \"international\",\n",
    "    \"place-types\": \"settlement,airport,district\",\n",
    "    \"order\": \"importance\",\n",
    "    \"s\": test_city,\n",
    "    \"a\": \"true\",\n",
    "    \"format\": \"json\"\n",
    "}\n",
    "encoded_params = urlencode(params)\n",
    "url = f\"{base_url}{encoded_params}\"\n",
    "url"
   ]
  },
  {
   "cell_type": "code",
   "execution_count": 5,
   "id": "b24aae53",
   "metadata": {},
   "outputs": [],
   "source": [
    "response = requests.get (url)\n"
   ]
  },
  {
   "cell_type": "code",
   "execution_count": 6,
   "id": "9b01014b",
   "metadata": {},
   "outputs": [
    {
     "data": {
      "text/plain": [
       "{'response': {'results': {'results': [{'id': '1269515',\n",
       "     'name': 'Jaipur',\n",
       "     'container': 'India',\n",
       "     'containerId': 1269750,\n",
       "     'language': 'en',\n",
       "     'timezone': 'Asia/Kolkata',\n",
       "     'country': 'IN',\n",
       "     'latitude': 26.91962,\n",
       "     'longitude': 75.78781,\n",
       "     'placeType': 'settlement'}],\n",
       "   'totalResults': 1}}}"
      ]
     },
     "execution_count": 6,
     "metadata": {},
     "output_type": "execute_result"
    }
   ],
   "source": [
    "response.json ()"
   ]
  },
  {
   "cell_type": "code",
   "execution_count": null,
   "id": "c74599ea",
   "metadata": {},
   "outputs": [],
   "source": []
  }
 ],
 "metadata": {
  "kernelspec": {
   "display_name": ".venv",
   "language": "python",
   "name": "python3"
  },
  "language_info": {
   "codemirror_mode": {
    "name": "ipython",
    "version": 3
   },
   "file_extension": ".py",
   "mimetype": "text/x-python",
   "name": "python",
   "nbconvert_exporter": "python",
   "pygments_lexer": "ipython3",
   "version": "3.12.10"
  }
 },
 "nbformat": 4,
 "nbformat_minor": 5
}
